{
  "nbformat": 4,
  "nbformat_minor": 0,
  "metadata": {
    "colab": {
      "name": "telegram.ipynb",
      "provenance": [],
      "collapsed_sections": [],
      "include_colab_link": true
    },
    "kernelspec": {
      "name": "python3",
      "display_name": "Python 3"
    },
    "language_info": {
      "name": "python"
    }
  },
  "cells": [
    {
      "cell_type": "markdown",
      "metadata": {
        "id": "view-in-github",
        "colab_type": "text"
      },
      "source": [
        "<a href=\"https://colab.research.google.com/github/alfonsoletizia1/mfa/blob/main/telegram.ipynb\" target=\"_parent\"><img src=\"https://colab.research.google.com/assets/colab-badge.svg\" alt=\"Open In Colab\"/></a>"
      ]
    },
    {
      "cell_type": "markdown",
      "metadata": {
        "id": "aqrjzhwWFDBw"
      },
      "source": [
        "**Install dependecies**"
      ]
    },
    {
      "cell_type": "code",
      "metadata": {
        "id": "rZ8JrrjrCYIT"
      },
      "source": [
        "!pip install python-telegram"
      ],
      "execution_count": null,
      "outputs": []
    },
    {
      "cell_type": "markdown",
      "metadata": {
        "id": "4LoGWEKdFHq9"
      },
      "source": [
        "**Import libraries**"
      ]
    },
    {
      "cell_type": "code",
      "metadata": {
        "id": "_jDNPC3LEulC"
      },
      "source": [
        "from telegram.client import Telegram\n"
      ],
      "execution_count": null,
      "outputs": []
    },
    {
      "cell_type": "markdown",
      "metadata": {
        "id": "fPhRtsvJFMhi"
      },
      "source": [
        "**Define your data**"
      ]
    },
    {
      "cell_type": "markdown",
      "metadata": {
        "id": "wNve3SJGFLnE"
      },
      "source": [
        ""
      ]
    },
    {
      "cell_type": "code",
      "metadata": {
        "id": "H1zqBK1HCjFR"
      },
      "source": [
        "api_id='14175192'\n",
        "api_hash='51be093e33f139fb6a381e8764eaa44b'\n",
        "phone='+393277005633'\n",
        "database_encryption_key=''\n"
      ],
      "execution_count": null,
      "outputs": []
    },
    {
      "cell_type": "markdown",
      "metadata": {
        "id": "PIPsySJdFQZP"
      },
      "source": [
        "**Enjoy!**"
      ]
    },
    {
      "cell_type": "code",
      "metadata": {
        "id": "E75lZU3w7KHu"
      },
      "source": [
        "import requests\n",
        "import re\n",
        "# Create the new URL with the refer tag\n",
        "affiliate_tag='memeville-21'\n",
        "baseURL='https://www.amazon.it/'\n",
        "\n",
        "if baseURL.startswith(\"https://www.\"):\n",
        "    searchURL = baseURL[12:]\n",
        "elif baseURL.startswith(\"http://www.\"):\n",
        "    searchURL = baseURL[11:]\n",
        "    baseURL = \"https://www.\"+searchURL\n",
        "else:\n",
        "    searchURL = baseURL\n",
        "    baseURL = \"https://www.\"+baseURL\n",
        "\n",
        "def newReferURL(pcode):\n",
        "    return baseURL+pcode+\"?tag=\"+affiliate_tag\n",
        "\n",
        "#Expand shorted URL (amzn.to links) to normal Amazon URL\n",
        "def unshortURL(url):\n",
        "    session = requests.Session()  # so connections are recycled\n",
        "    resp = session.head(\"https://\"+url, allow_redirects=True, verify=False)\n",
        "    return resp.url\n",
        "\n",
        "#Filter the msg text to extract the URL if found. Then send the corresponding reply\n",
        "# with the new affiliate URL\n",
        "def filterText(msg):\n",
        "    pCode=\"\"\n",
        "    start = msg.find(\"amzn.to\")\n",
        "    if start!=-1:\n",
        "        msg = unshortURL(msg[start:].split()[0])\n",
        "    start = msg.find(searchURL)\n",
        "    if start != -1:\n",
        "        #Regular expression to extract the product code. Adjust if different URL schemes are found.\n",
        "        m = re.search(r'(?:dp\\/[\\w]*)|(?:gp\\/product\\/[\\w]*)',msg[start:].split(\" \")[0])\n",
        "        if m != None:\n",
        "            pCode = m.group(0)\n",
        "        print(newReferURL(pCode))\n",
        "\n",
        "\n",
        "filterText('Apple AirPods con custodia di ricarica tramite cavo  in offerta a 99.00€ ➡️ https://amzn.to/3fyRiqp')\n",
        "\n",
        "  \n",
        "        \n",
        "            \n"
      ],
      "execution_count": null,
      "outputs": []
    },
    {
      "cell_type": "code",
      "metadata": {
        "id": "RnsqwsHvCe4B"
      },
      "source": [
        "\n",
        "tg = Telegram(\n",
        "  api_id=api_id,\n",
        "  api_hash=api_hash,\n",
        "  phone=phone,\n",
        "  database_encryption_key = database_encryption_key\n",
        ")\n",
        "\n",
        "tg.login()\n",
        "\n",
        "def new_message_handler(update):\n",
        "    message_content = update['message']['content'].get('text', {})\n",
        "    message_text = message_content.get('text', '')\n",
        "    #print(message_text)\n",
        "    filterText(message_text)\n",
        "\n",
        "tg.add_message_handler(new_message_handler)\n",
        "tg.idle() "
      ],
      "execution_count": null,
      "outputs": []
    }
  ]
}